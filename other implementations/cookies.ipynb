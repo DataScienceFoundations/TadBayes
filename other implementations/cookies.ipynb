{
 "cells": [
  {
   "cell_type": "code",
   "execution_count": 1,
   "metadata": {},
   "outputs": [],
   "source": [
    "import pandas as pd"
   ]
  },
  {
   "cell_type": "code",
   "execution_count": 2,
   "metadata": {},
   "outputs": [],
   "source": [
    "jar1 = pd.Series([30, 10], index=['vanilla', 'chocolate'])\n",
    "jar2 = pd.Series([20, 20], index=['vanilla', 'chocolate'])"
   ]
  },
  {
   "cell_type": "code",
   "execution_count": 3,
   "metadata": {},
   "outputs": [],
   "source": [
    "def prob_cookie_given_jar(c, jar):\n",
    "    \"\"\"prob of a cookie given jar\"\"\"\n",
    "    return jar.get(c,0) / jar.sum()\n",
    "\n",
    "def prob_cookie(c, jars):\n",
    "    \"\"\"prob of a cookie\"\"\"\n",
    "    return (sum(jar.get(c,0) for jar in jars)\n",
    "            / sum(jar.sum() for jar in jars))\n",
    "\n",
    "def prob_jar_given_cookie(j1, c, j2):\n",
    "    \"\"\"prob of jar 1 producing cookie\n",
    "    \n",
    "    This applies Bayes's theorem.\n",
    "    \"\"\"\n",
    "    return ((0.5 * prob_cookie_given_jar(c, j1)) / prob_cookie(c, (j1,j2)))"
   ]
  },
  {
   "cell_type": "code",
   "execution_count": 4,
   "metadata": {},
   "outputs": [],
   "source": [
    "prob_jar1_given_vanilla = prob_jar_given_cookie(jar1, 'vanilla', jar2)"
   ]
  },
  {
   "cell_type": "code",
   "execution_count": 5,
   "metadata": {},
   "outputs": [
    {
     "name": "stdout",
     "output_type": "stream",
     "text": [
      "0.6\n"
     ]
    }
   ],
   "source": [
    "print(prob_jar1_given_vanilla)"
   ]
  }
 ],
 "metadata": {
  "kernelspec": {
   "display_name": "Python 3",
   "language": "python",
   "name": "python3"
  },
  "language_info": {
   "codemirror_mode": {
    "name": "ipython",
    "version": 3
   },
   "file_extension": ".py",
   "mimetype": "text/x-python",
   "name": "python",
   "nbconvert_exporter": "python",
   "pygments_lexer": "ipython3",
   "version": "3.6.5"
  }
 },
 "nbformat": 4,
 "nbformat_minor": 2
}
